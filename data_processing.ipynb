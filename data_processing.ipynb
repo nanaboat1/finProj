{
 "cells": [
  {
   "cell_type": "code",
   "execution_count": 1,
   "metadata": {},
   "outputs": [],
   "source": [
    "import pandas as pd"
   ]
  },
  {
   "cell_type": "code",
   "execution_count": 2,
   "metadata": {},
   "outputs": [
    {
     "data": {
      "text/html": [
       "<div>\n",
       "<style scoped>\n",
       "    .dataframe tbody tr th:only-of-type {\n",
       "        vertical-align: middle;\n",
       "    }\n",
       "\n",
       "    .dataframe tbody tr th {\n",
       "        vertical-align: top;\n",
       "    }\n",
       "\n",
       "    .dataframe thead th {\n",
       "        text-align: right;\n",
       "    }\n",
       "</style>\n",
       "<table border=\"1\" class=\"dataframe\">\n",
       "  <thead>\n",
       "    <tr style=\"text-align: right;\">\n",
       "      <th></th>\n",
       "      <th>Gene_ID</th>\n",
       "      <th>Refseq_ID</th>\n",
       "      <th>Sequence</th>\n",
       "    </tr>\n",
       "  </thead>\n",
       "  <tbody>\n",
       "    <tr>\n",
       "      <th>0</th>\n",
       "      <td>NCBI:1305</td>\n",
       "      <td>NM_001368885.1</td>\n",
       "      <td>ATCCGATCCGTGCCGCCGCAGGGAGTGTGTCAAGTTACAGAGGCGC...</td>\n",
       "    </tr>\n",
       "    <tr>\n",
       "      <th>1</th>\n",
       "      <td>NCBI:1305</td>\n",
       "      <td>NM_001368886.1</td>\n",
       "      <td>ATCCGATCCGTGCCGCCGCAGGGAGTGTGTCAAGTTACAGAGGCGC...</td>\n",
       "    </tr>\n",
       "    <tr>\n",
       "      <th>2</th>\n",
       "      <td>NCBI:6867</td>\n",
       "      <td>NR_148047.2</td>\n",
       "      <td>AGGAGAGATGCGAAATCAGCGGTAGCAGGTGGCGCAGAAGGGAGAG...</td>\n",
       "    </tr>\n",
       "    <tr>\n",
       "      <th>3</th>\n",
       "      <td>NCBI:6867</td>\n",
       "      <td>NR_148053.2</td>\n",
       "      <td>AGGAGAGATGCGAAATCAGCGGTAGCAGGTGGCGCAGAAGGGAGAG...</td>\n",
       "    </tr>\n",
       "    <tr>\n",
       "      <th>4</th>\n",
       "      <td>NCBI:6597</td>\n",
       "      <td>NM_001374457.1</td>\n",
       "      <td>GGGCGCGCGCGCGAGGCTTCCCCTCGTTTGGCGGCGGCGGCGGCTT...</td>\n",
       "    </tr>\n",
       "    <tr>\n",
       "      <th>...</th>\n",
       "      <td>...</td>\n",
       "      <td>...</td>\n",
       "      <td>...</td>\n",
       "    </tr>\n",
       "    <tr>\n",
       "      <th>133900</th>\n",
       "      <td>NCBI:220930</td>\n",
       "      <td>NR_148979.1</td>\n",
       "      <td>CTTACACCTAGAGGCTCTCGCTCTACGGCCGGAACCTTGTTGCTAG...</td>\n",
       "    </tr>\n",
       "    <tr>\n",
       "      <th>133901</th>\n",
       "      <td>NCBI:220930</td>\n",
       "      <td>NR_148977.1</td>\n",
       "      <td>CTTACACCTAGAGGCTCTCGCTCTACGGCCGGAACCTTGTTGCTAG...</td>\n",
       "    </tr>\n",
       "    <tr>\n",
       "      <th>133902</th>\n",
       "      <td>NCBI:220930</td>\n",
       "      <td>NR_148976.1</td>\n",
       "      <td>CGCCCACAGCCCGGCCCGAGTCGCGGGGCCCGAGCGACAGCGACGG...</td>\n",
       "    </tr>\n",
       "    <tr>\n",
       "      <th>133903</th>\n",
       "      <td>NCBI:220930</td>\n",
       "      <td>NR_148975.1</td>\n",
       "      <td>ATTATCCGGCTTCAGCGCTCCGTGCGTCCGGCCCAGGTAACAACTT...</td>\n",
       "    </tr>\n",
       "    <tr>\n",
       "      <th>133904</th>\n",
       "      <td>NCBI:109623460</td>\n",
       "      <td>NR_145802.2</td>\n",
       "      <td>GTGCATGTGATGAAGCAAATCAGTATGAATGAATTCATGATACTGT...</td>\n",
       "    </tr>\n",
       "  </tbody>\n",
       "</table>\n",
       "<p>133905 rows × 3 columns</p>\n",
       "</div>"
      ],
      "text/plain": [
       "               Gene_ID       Refseq_ID  \\\n",
       "0            NCBI:1305  NM_001368885.1   \n",
       "1            NCBI:1305  NM_001368886.1   \n",
       "2            NCBI:6867     NR_148047.2   \n",
       "3            NCBI:6867     NR_148053.2   \n",
       "4            NCBI:6597  NM_001374457.1   \n",
       "...                ...             ...   \n",
       "133900     NCBI:220930     NR_148979.1   \n",
       "133901     NCBI:220930     NR_148977.1   \n",
       "133902     NCBI:220930     NR_148976.1   \n",
       "133903     NCBI:220930     NR_148975.1   \n",
       "133904  NCBI:109623460     NR_145802.2   \n",
       "\n",
       "                                                 Sequence  \n",
       "0       ATCCGATCCGTGCCGCCGCAGGGAGTGTGTCAAGTTACAGAGGCGC...  \n",
       "1       ATCCGATCCGTGCCGCCGCAGGGAGTGTGTCAAGTTACAGAGGCGC...  \n",
       "2       AGGAGAGATGCGAAATCAGCGGTAGCAGGTGGCGCAGAAGGGAGAG...  \n",
       "3       AGGAGAGATGCGAAATCAGCGGTAGCAGGTGGCGCAGAAGGGAGAG...  \n",
       "4       GGGCGCGCGCGCGAGGCTTCCCCTCGTTTGGCGGCGGCGGCGGCTT...  \n",
       "...                                                   ...  \n",
       "133900  CTTACACCTAGAGGCTCTCGCTCTACGGCCGGAACCTTGTTGCTAG...  \n",
       "133901  CTTACACCTAGAGGCTCTCGCTCTACGGCCGGAACCTTGTTGCTAG...  \n",
       "133902  CGCCCACAGCCCGGCCCGAGTCGCGGGGCCCGAGCGACAGCGACGG...  \n",
       "133903  ATTATCCGGCTTCAGCGCTCCGTGCGTCCGGCCCAGGTAACAACTT...  \n",
       "133904  GTGCATGTGATGAAGCAAATCAGTATGAATGAATTCATGATACTGT...  \n",
       "\n",
       "[133905 rows x 3 columns]"
      ]
     },
     "execution_count": 2,
     "metadata": {},
     "output_type": "execute_result"
    }
   ],
   "source": [
    "sequences = pd.read_table(\"human_RNA_sequence.txt\")\n"
   ]
  },
  {
   "cell_type": "code",
   "execution_count": 3,
   "metadata": {},
   "outputs": [
    {
     "name": "stderr",
     "output_type": "stream",
     "text": [
      "C:\\Users\\12066\\AppData\\Local\\Temp\\ipykernel_19756\\4003130032.py:1: DtypeWarning: Columns (8) have mixed types. Specify dtype option on import or set low_memory=False.\n",
      "  localization_table = pd.read_table(\"rna_localization_Data.txt\")\n"
     ]
    }
   ],
   "source": [
    "localization_table = pd.read_table(\"rna_localization_Data.txt\")"
   ]
  },
  {
   "cell_type": "code",
   "execution_count": 4,
   "metadata": {},
   "outputs": [],
   "source": [
    "ref_loc = localization_table[localization_table['Species'] == \"Homo sapiens\"] \n",
    "ref_loc= ref_loc[ref_loc[\"RNA_category\"] == \"mRNA\"] "
   ]
  },
  {
   "cell_type": "code",
   "execution_count": 5,
   "metadata": {},
   "outputs": [],
   "source": [
    "df = pd.merge(sequences,ref_loc, on = 'Gene_ID')\n"
   ]
  },
  {
   "cell_type": "code",
   "execution_count": 8,
   "metadata": {},
   "outputs": [],
   "source": [
    "df1 = df.dropna()\n"
   ]
  },
  {
   "cell_type": "code",
   "execution_count": 7,
   "metadata": {},
   "outputs": [],
   "source": [
    "df2 = df1.groupby('SubCellular_Localization')"
   ]
  },
  {
   "cell_type": "code",
   "execution_count": 1,
   "metadata": {},
   "outputs": [
    {
     "ename": "NameError",
     "evalue": "name 'df2' is not defined",
     "output_type": "error",
     "traceback": [
      "\u001b[1;31m---------------------------------------------------------------------------\u001b[0m",
      "\u001b[1;31mNameError\u001b[0m                                 Traceback (most recent call last)",
      "Cell \u001b[1;32mIn [1], line 1\u001b[0m\n\u001b[1;32m----> 1\u001b[0m \u001b[39mfor\u001b[39;00m group_name,group \u001b[39min\u001b[39;00m df2:\n\u001b[0;32m      2\u001b[0m     group\u001b[39m.\u001b[39mto_csv(\u001b[39m\"\u001b[39m\u001b[39m Out_\u001b[39m\u001b[39m{}\u001b[39;00m\u001b[39m.csv\u001b[39m\u001b[39m\"\u001b[39m\u001b[39m.\u001b[39mformat(group_name))\n",
      "\u001b[1;31mNameError\u001b[0m: name 'df2' is not defined"
     ]
    }
   ],
   "source": [
    "for group_name,group in df2:\n",
    "    group.to_csv(\" Out_{}.csv\".format(group_name))"
   ]
  },
  {
   "cell_type": "code",
   "execution_count": null,
   "metadata": {},
   "outputs": [],
   "source": []
  },
  {
   "cell_type": "code",
   "execution_count": 9,
   "metadata": {},
   "outputs": [],
   "source": [
    "chimsey = \"./Out_Perinuclear.csv\""
   ]
  },
  {
   "cell_type": "code",
   "execution_count": 10,
   "metadata": {},
   "outputs": [
    {
     "data": {
      "text/plain": [
       "str"
      ]
     },
     "execution_count": 10,
     "metadata": {},
     "output_type": "execute_result"
    }
   ],
   "source": [
    "type(chimsey)"
   ]
  }
 ],
 "metadata": {
  "kernelspec": {
   "display_name": "Python 3.10.0 64-bit",
   "language": "python",
   "name": "python3"
  },
  "language_info": {
   "codemirror_mode": {
    "name": "ipython",
    "version": 3
   },
   "file_extension": ".py",
   "mimetype": "text/x-python",
   "name": "python",
   "nbconvert_exporter": "python",
   "pygments_lexer": "ipython3",
   "version": "3.10.0"
  },
  "orig_nbformat": 4,
  "vscode": {
   "interpreter": {
    "hash": "bf14410328ba703d66aec8194fdb5798033fdb6d7cc7d9b38841a6816093275c"
   }
  }
 },
 "nbformat": 4,
 "nbformat_minor": 2
}
