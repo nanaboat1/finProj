{
 "cells": [
  {
   "cell_type": "code",
   "execution_count": 6,
   "metadata": {},
   "outputs": [],
   "source": [
    "#calculate and return the hamming distance for two equal number of genomes\n",
    "def hamming_distance(a,b):\n",
    "    count = 0\n",
    "    for a,b in zip(a, b):\n",
    "        if a!= b:\n",
    "            count = count + 1\n",
    "    return count\n",
    "\n",
    "# a recuring function that returns the neighbors of the certain genomes by splitting \n",
    "def neighbors(index, d):\n",
    "    if d == 0: # if the\n",
    "        return index\n",
    "    if len(index) == 1:\n",
    "        return [\"A\", \"C\", \"G\", \"T\"]\n",
    "    neighbor= []\n",
    "    suffixneighbors = neighbors(index[1:], d)\n",
    "    for text in suffixneighbors:\n",
    "        if hamming_distance(index[1:], text) < d:\n",
    "            for x in [\"A\", \"C\", \"G\", \"T\"]:\n",
    "                neighbor.append(x + text)\n",
    "        else:\n",
    "            neighbor.append(index[0] + text)\n",
    "\n",
    "    return neighbor\n",
    "\n",
    "# a function that finds the freqent words itself\n",
    "def findFreqWords(Text, k, d):\n",
    "    words = []\n",
    "    neighborhood = set()\n",
    "    result = []\n",
    "\n",
    "    for i in range(len(Text) - k + 1):\n",
    "        words.append(Text[i: i + k])\n",
    "\n",
    "\n",
    "    for word in words:\n",
    "        neighborhood.update(set(neighbors(word, d)))\n",
    "\n",
    "    mmax = 0\n",
    "    for i in neighborhood:\n",
    "        frequenti = 0\n",
    "        for c in words:\n",
    "            if hamming_distance(i, c) <= d:\n",
    "                frequenti += 1\n",
    "\n",
    "        if mmax < frequenti:\n",
    "            mmax = frequenti\n",
    "            result = [i]\n",
    "        elif mmax == frequenti:\n",
    "            result.append(i)\n",
    "\n",
    "\n",
    "    return result\n"
   ]
  },
  {
   "cell_type": "code",
   "execution_count": 3,
   "metadata": {},
   "outputs": [],
   "source": [
    "import pandas as pd\n",
    "\n",
    "filein = pd.read_csv(\" Out_Mitochondrion.csv\")\n"
   ]
  },
  {
   "cell_type": "code",
   "execution_count": 4,
   "metadata": {},
   "outputs": [],
   "source": [
    "my_list = list(filein[\"Sequence\"])"
   ]
  },
  {
   "cell_type": "code",
   "execution_count": 7,
   "metadata": {},
   "outputs": [],
   "source": [
    "fileout = open(\"output2.txt\",\"a\")\n",
    "for i in my_list:\n",
    "    print(findFreqWords(i,12,len(i)), file = fileout)"
   ]
  }
 ],
 "metadata": {
  "kernelspec": {
   "display_name": "Python 3.10.0 64-bit",
   "language": "python",
   "name": "python3"
  },
  "language_info": {
   "codemirror_mode": {
    "name": "ipython",
    "version": 3
   },
   "file_extension": ".py",
   "mimetype": "text/x-python",
   "name": "python",
   "nbconvert_exporter": "python",
   "pygments_lexer": "ipython3",
   "version": "3.10.0"
  },
  "orig_nbformat": 4,
  "vscode": {
   "interpreter": {
    "hash": "bf14410328ba703d66aec8194fdb5798033fdb6d7cc7d9b38841a6816093275c"
   }
  }
 },
 "nbformat": 4,
 "nbformat_minor": 2
}
